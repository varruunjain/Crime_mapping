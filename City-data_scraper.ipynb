{
 "cells": [
  {
   "cell_type": "code",
   "execution_count": 1,
   "metadata": {
    "ExecuteTime": {
     "end_time": "2018-02-14T06:13:43.446431Z",
     "start_time": "2018-02-14T06:13:42.743201Z"
    },
    "collapsed": true
   },
   "outputs": [],
   "source": [
    "import requests\n",
    "from bs4 import BeautifulSoup\n",
    "import pandas as pd\n",
    "import numpy as np\n",
    "import re"
   ]
  },
  {
   "cell_type": "markdown",
   "metadata": {},
   "source": [
    "** Retreiving the zipcode data from previous pickled file**  "
   ]
  },
  {
   "cell_type": "code",
   "execution_count": null,
   "metadata": {
    "collapsed": true
   },
   "outputs": [],
   "source": [
    "zipu=pd.read_pickle(\"zip_code_unique.pkl\")\n",
    "zipu=zipu[0].unique()"
   ]
  },
  {
   "cell_type": "markdown",
   "metadata": {
    "ExecuteTime": {
     "end_time": "2018-02-14T02:12:53.346735Z",
     "start_time": "2018-02-14T02:12:53.332347Z"
    }
   },
   "source": [
    "** Scraping the data from www.city-data.com **  \n",
    "Male popluation , female population, and median household income is extracted"
   ]
  },
  {
   "cell_type": "code",
   "execution_count": 146,
   "metadata": {
    "ExecuteTime": {
     "end_time": "2018-02-14T02:14:38.672007Z",
     "start_time": "2018-02-14T02:13:59.924645Z"
    },
    "collapsed": true
   },
   "outputs": [],
   "source": [
    "responses=[]\n",
    "male=[]\n",
    "female=[]\n",
    "income_list=[]\n",
    "for z in zipu:\n",
    "    #print(\"http://www.city-data.com/zips/\"+z)\n",
    "    #print(z)\n",
    "    response=requests.get(\"http://www.city-data.com/zips/\"+z+\".html\")\n",
    "    if(response.status_code==200):\n",
    "        \n",
    "        soup = BeautifulSoup(response.text, \"html.parser\")\n",
    "        income = soup.find(\"b\", text=re.compile(\"^Estimated median household income in 2016:\"))\n",
    "        male_population = soup.find(\"b\", text=re.compile(\"^Males:\"))\n",
    "        female_population = soup.find(\"b\", text=re.compile(\"^Females:\"))\n",
    "        \n",
    "        male.append(male_population.next_sibling)\n",
    "        female.append(female_population.next_sibling)\n",
    "        income_list.append(income.next_sibling.next_element.text)\n",
    "        \n",
    "    else:\n",
    "        #print(\"oops\")\n",
    "        male.append(\",\")\n",
    "        female.append(\",\")\n",
    "        income_list.append(\"oops$\")\n",
    "t=list(zip(male,female,income))        "
   ]
  },
  {
   "cell_type": "code",
   "execution_count": 147,
   "metadata": {
    "ExecuteTime": {
     "end_time": "2018-02-14T02:14:42.943676Z",
     "start_time": "2018-02-14T02:14:42.933882Z"
    },
    "collapsed": true
   },
   "outputs": [],
   "source": [
    "inc=[i.split(\"$\")[1].replace(',',\"\") for i in income_list]\n",
    "male_population=[i.strip().replace(',',\"\") for i in male]\n",
    "female_population=[i.strip().replace(',',\"\") for i in female]\n"
   ]
  },
  {
   "cell_type": "code",
   "execution_count": 148,
   "metadata": {
    "ExecuteTime": {
     "end_time": "2018-02-14T02:14:43.646589Z",
     "start_time": "2018-02-14T02:14:43.638930Z"
    },
    "collapsed": true
   },
   "outputs": [],
   "source": [
    "relational_zipcode_df=pd.DataFrame(list(zip(zipu,male_population,female_population,inc)),columns=[\"Zipcode\",\"Male_population\",\"Female_population\",\"Median_income_zipcode\"])"
   ]
  },
  {
   "cell_type": "code",
   "execution_count": 149,
   "metadata": {
    "ExecuteTime": {
     "end_time": "2018-02-14T02:15:16.270122Z",
     "start_time": "2018-02-14T02:15:16.228531Z"
    },
    "collapsed": true
   },
   "outputs": [],
   "source": [
    "pd.to_pickle(relational_zipcode_df,\"relational_zipcode_df.pkl\")"
   ]
  }
 ],
 "metadata": {
  "kernelspec": {
   "display_name": "Python 3",
   "language": "python",
   "name": "python3"
  },
  "language_info": {
   "codemirror_mode": {
    "name": "ipython",
    "version": 3
   },
   "file_extension": ".py",
   "mimetype": "text/x-python",
   "name": "python",
   "nbconvert_exporter": "python",
   "pygments_lexer": "ipython3",
   "version": "3.6.3"
  },
  "toc": {
   "nav_menu": {},
   "number_sections": true,
   "sideBar": true,
   "skip_h1_title": false,
   "toc_cell": false,
   "toc_position": {},
   "toc_section_display": "block",
   "toc_window_display": false
  }
 },
 "nbformat": 4,
 "nbformat_minor": 2
}
