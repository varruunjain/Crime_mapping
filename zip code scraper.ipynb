{
 "cells": [
  {
   "cell_type": "code",
   "execution_count": 1,
   "metadata": {
    "ExecuteTime": {
     "end_time": "2018-02-14T06:10:41.924707Z",
     "start_time": "2018-02-14T06:10:27.694631Z"
    }
   },
   "outputs": [
    {
     "name": "stdout",
     "output_type": "stream",
     "text": [
      "<class 'pandas.core.frame.DataFrame'>\n",
      "RangeIndex: 878049 entries, 0 to 878048\n",
      "Data columns (total 9 columns):\n",
      "Dates         878049 non-null object\n",
      "Category      878049 non-null object\n",
      "Descript      878049 non-null object\n",
      "DayOfWeek     878049 non-null object\n",
      "PdDistrict    878049 non-null object\n",
      "Resolution    878049 non-null object\n",
      "Address       878049 non-null object\n",
      "X             878049 non-null float64\n",
      "Y             878049 non-null float64\n",
      "dtypes: float64(2), object(7)\n",
      "memory usage: 60.3+ MB\n"
     ]
    }
   ],
   "source": [
    "import pandas as pd\n",
    "import numpy as np\n",
    "\n",
    "\n",
    "df=pd.read_csv(\"/Users/varru/Desktop/sf_crime_train.csv\")\n",
    "\n",
    "df.head()\n",
    "\n",
    "df.info()\n",
    "\n",
    "from pandas.tseries.holiday import USFederalHolidayCalendar as calendar\n",
    "from sklearn.feature_extraction.text import CountVectorizer\n",
    "\n",
    "# Define the parser for the Dates column\n",
    "dateparse = lambda x: pd.datetime.strptime(x, '%Y-%m-%d %H:%M:%S')\n",
    "# Read train and test datasets into data frames\n",
    "input_train_df = pd.read_csv('/Users/varru/Desktop/sf_crime_train.csv', parse_dates=['Dates'], date_parser=dateparse)\n",
    "#input_test_df = pd.read_csv('../data/test.csv', parse_dates=['Dates'], date_parser=dateparse)\n",
    "\n",
    "holidays = calendar().holidays(start='2002-01-01', end='2015-12-31')"
   ]
  },
  {
   "cell_type": "code",
   "execution_count": 3,
   "metadata": {
    "ExecuteTime": {
     "end_time": "2018-02-09T22:30:16.436926Z",
     "start_time": "2018-02-09T22:30:16.407109Z"
    }
   },
   "outputs": [
    {
     "data": {
      "text/plain": [
       "34243"
      ]
     },
     "execution_count": 3,
     "metadata": {},
     "output_type": "execute_result"
    }
   ],
   "source": [
    "input_train_df.Y.nunique()"
   ]
  },
  {
   "cell_type": "code",
   "execution_count": 11,
   "metadata": {
    "ExecuteTime": {
     "end_time": "2018-02-09T22:44:03.730307Z",
     "start_time": "2018-02-09T22:44:03.560330Z"
    },
    "collapsed": true
   },
   "outputs": [],
   "source": [
    "df_cordinates=input_train_df.groupby([\"X\",\"Y\"]).size().reset_index()"
   ]
  },
  {
   "cell_type": "code",
   "execution_count": 273,
   "metadata": {
    "ExecuteTime": {
     "end_time": "2018-02-11T16:26:12.113550Z",
     "start_time": "2018-02-11T16:26:12.097892Z"
    },
    "code_folding": [],
    "collapsed": true,
    "scrolled": true
   },
   "outputs": [],
   "source": [
    "lits=[]\n",
    "import time\n",
    "import re\n",
    "from geopy.geocoders import Nominatim\n",
    "geolocator = Nominatim()\n",
    "count=0\n",
    "total=np.arange(0,df_cordinates.shape[0]+5,200)\n",
    "sleeper=0\n",
    "for x,y,_ in df_cordinates.values:\n",
    "    count+=1\n",
    "    sleeper+=1\n",
    "    location = geolocator.reverse((y,x),timeout=5)\n",
    "    result=(re.findall('\\d+',location.address))\n",
    "    print(count)\n",
    "    lits.append((result[-1],y,x))\n",
    "    if(sleeper in total):\n",
    "        print(\"sleep time\")\n",
    "        time.sleep(75)"
   ]
  },
  {
   "cell_type": "code",
   "execution_count": 212,
   "metadata": {
    "ExecuteTime": {
     "end_time": "2018-02-11T16:01:52.972317Z",
     "start_time": "2018-02-11T16:01:52.941065Z"
    },
    "collapsed": true
   },
   "outputs": [],
   "source": [
    "tup4=lits"
   ]
  },
  {
   "cell_type": "code",
   "execution_count": 230,
   "metadata": {
    "ExecuteTime": {
     "end_time": "2018-02-11T16:08:11.504291Z",
     "start_time": "2018-02-11T16:08:11.488632Z"
    }
   },
   "outputs": [
    {
     "data": {
      "text/plain": [
       "31242"
      ]
     },
     "execution_count": 230,
     "metadata": {},
     "output_type": "execute_result"
    }
   ],
   "source": [
    "final_tuple=tup1+tup2+tup3+tup4\n",
    "len(tup1+tup2+tup3+tup4)"
   ]
  },
  {
   "cell_type": "code",
   "execution_count": 257,
   "metadata": {
    "ExecuteTime": {
     "end_time": "2018-02-11T16:19:19.548931Z",
     "start_time": "2018-02-11T16:19:19.517709Z"
    },
    "collapsed": true
   },
   "outputs": [],
   "source": [
    "#before_tuple=tuple(zip(list1,df_cordinates.Y[:3000],df_cordinates.X[:3000]))"
   ]
  },
  {
   "cell_type": "code",
   "execution_count": 267,
   "metadata": {
    "ExecuteTime": {
     "end_time": "2018-02-11T16:24:11.449035Z",
     "start_time": "2018-02-11T16:24:11.433524Z"
    },
    "collapsed": true
   },
   "outputs": [],
   "source": [
    "tup=[]\n",
    "for x in before_tuple:\n",
    "    tup.append(x)\n",
    "    "
   ]
  },
  {
   "cell_type": "code",
   "execution_count": 272,
   "metadata": {
    "ExecuteTime": {
     "end_time": "2018-02-11T16:25:44.690000Z",
     "start_time": "2018-02-11T16:25:44.674374Z"
    },
    "collapsed": true
   },
   "outputs": [],
   "source": [
    "zipcode_df=pd.DataFrame(tup+final_tuple)"
   ]
  },
  {
   "cell_type": "code",
   "execution_count": 275,
   "metadata": {
    "ExecuteTime": {
     "end_time": "2018-02-11T16:27:37.465961Z",
     "start_time": "2018-02-11T16:27:37.434709Z"
    },
    "collapsed": true
   },
   "outputs": [],
   "source": [
    "pd.to_pickle(zipcode_df,\"zip_code_unique.pkl\")"
   ]
  },
  {
   "cell_type": "code",
   "execution_count": 279,
   "metadata": {
    "ExecuteTime": {
     "end_time": "2018-02-11T16:29:12.472949Z",
     "start_time": "2018-02-11T16:29:12.426070Z"
    },
    "collapsed": true
   },
   "outputs": [],
   "source": [
    "zipcode_df.columns=[\"zipcode\",\"Y\",\"X\"]"
   ]
  },
  {
   "cell_type": "code",
   "execution_count": 281,
   "metadata": {
    "ExecuteTime": {
     "end_time": "2018-02-11T16:29:33.098190Z",
     "start_time": "2018-02-11T16:29:33.082562Z"
    }
   },
   "outputs": [
    {
     "data": {
      "text/html": [
       "<div>\n",
       "<style>\n",
       "    .dataframe thead tr:only-child th {\n",
       "        text-align: right;\n",
       "    }\n",
       "\n",
       "    .dataframe thead th {\n",
       "        text-align: left;\n",
       "    }\n",
       "\n",
       "    .dataframe tbody tr th {\n",
       "        vertical-align: top;\n",
       "    }\n",
       "</style>\n",
       "<table border=\"1\" class=\"dataframe\">\n",
       "  <thead>\n",
       "    <tr style=\"text-align: right;\">\n",
       "      <th></th>\n",
       "      <th>zipcode</th>\n",
       "      <th>Y</th>\n",
       "      <th>X</th>\n",
       "    </tr>\n",
       "  </thead>\n",
       "  <tbody>\n",
       "    <tr>\n",
       "      <th>0</th>\n",
       "      <td>94122</td>\n",
       "      <td>37.778469</td>\n",
       "      <td>-122.513642</td>\n",
       "    </tr>\n",
       "    <tr>\n",
       "      <th>1</th>\n",
       "      <td>94122</td>\n",
       "      <td>37.778469</td>\n",
       "      <td>-122.513642</td>\n",
       "    </tr>\n",
       "  </tbody>\n",
       "</table>\n",
       "</div>"
      ],
      "text/plain": [
       "  zipcode          Y           X\n",
       "0   94122  37.778469 -122.513642\n",
       "1   94122  37.778469 -122.513642"
      ]
     },
     "execution_count": 281,
     "metadata": {},
     "output_type": "execute_result"
    }
   ],
   "source": [
    "zipcode_df.head(2)"
   ]
  },
  {
   "cell_type": "code",
   "execution_count": 7,
   "metadata": {
    "ExecuteTime": {
     "end_time": "2018-02-14T06:24:29.647792Z",
     "start_time": "2018-02-14T06:24:29.632165Z"
    }
   },
   "outputs": [],
   "source": [
    "#input_train_df.head(2)"
   ]
  },
  {
   "cell_type": "code",
   "execution_count": 6,
   "metadata": {
    "ExecuteTime": {
     "end_time": "2018-02-14T06:24:20.131793Z",
     "start_time": "2018-02-14T06:24:20.100662Z"
    }
   },
   "outputs": [],
   "source": [
    "#pd.merge(input_train_df,zipcode_df,how='left',left_on=[\"X\",\"Y\"],right_on=[\"X\",\"Y\"])"
   ]
  },
  {
   "cell_type": "code",
   "execution_count": 5,
   "metadata": {
    "ExecuteTime": {
     "end_time": "2018-02-14T06:24:00.614175Z",
     "start_time": "2018-02-14T06:24:00.598549Z"
    }
   },
   "outputs": [],
   "source": [
    "#pd.merge(input_train_df,zipcode_df,how='outer',left_on=[\"X\",\"Y\"],right_on=[\"X\",\"Y\"])"
   ]
  },
  {
   "cell_type": "code",
   "execution_count": null,
   "metadata": {
    "collapsed": true
   },
   "outputs": [],
   "source": []
  }
 ],
 "metadata": {
  "kernelspec": {
   "display_name": "Python 3",
   "language": "python",
   "name": "python3"
  },
  "language_info": {
   "codemirror_mode": {
    "name": "ipython",
    "version": 3
   },
   "file_extension": ".py",
   "mimetype": "text/x-python",
   "name": "python",
   "nbconvert_exporter": "python",
   "pygments_lexer": "ipython3",
   "version": "3.6.3"
  },
  "toc": {
   "nav_menu": {},
   "number_sections": true,
   "sideBar": true,
   "skip_h1_title": false,
   "toc_cell": false,
   "toc_position": {},
   "toc_section_display": "block",
   "toc_window_display": false
  }
 },
 "nbformat": 4,
 "nbformat_minor": 2
}
